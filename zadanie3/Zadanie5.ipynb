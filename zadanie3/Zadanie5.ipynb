{
 "cells": [
  {
   "cell_type": "markdown",
   "metadata": {},
   "source": [
    "# Inżynieria lingwistyczna\n",
    "Ten notebook jest oceniany półautomatycznie. Nie twórz ani nie usuwaj komórek - struktura notebooka musi zostać zachowana. Odpowiedź wypełnij tam gdzie jest na to wskazane miejsce - odpowiedzi w innych miejscach nie będą sprawdzane (nie są widoczne dla sprawdzającego w systemie).\n",
    "\n",
    "Make sure you fill in any place that says `YOUR CODE HERE` or \"YOUR ANSWER HERE\"."
   ]
  },
  {
   "cell_type": "markdown",
   "metadata": {},
   "source": [
    "---"
   ]
  },
  {
   "cell_type": "markdown",
   "metadata": {},
   "source": [
    "# Moduł 5: Statystyczne tłumaczenie maszynowe\n",
    "\n",
    "## Zadanie 1\n",
    "Zadanie polega na zaimplementowaniu algorytmu Expectation-Maximization w modelu IBM Model 1 do przypasowywania słów. Będzie to fragment modelu, który tłumaczyć będzie z hiszpańskiego na angielski. \n",
    "\n",
    "UWAGA: Specjalny token \"NULL\" pomijamy w implementacji.\n",
    "\n",
    "Dany jest mini-korpus równoległy angielsko-hiszpański\n",
    "- \"green house\" \"casa verde\"\n",
    "- \"the house\" \"la casa\"\n",
    "- \"the green house\" \"la casa verde\"\n"
   ]
  },
  {
   "cell_type": "code",
   "execution_count": 1,
   "metadata": {},
   "outputs": [],
   "source": [
    "import itertools\n",
    "english = [[\"green\",\"house\"], [\"the\",\"house\"], [\"the\", \"green\", \"house\"]]\n",
    "spanish = [[\"casa\", \"verde\"], [\"la\", \"casa\"], [\"la\", \"casa\", \"verde\"]]"
   ]
  },
  {
   "cell_type": "markdown",
   "metadata": {},
   "source": [
    "W dalszych funkcjach przydatne może być wyznaczenie słownika czyli zbioru słów z korpusu dla danego języka."
   ]
  },
  {
   "cell_type": "code",
   "execution_count": 2,
   "metadata": {
    "deletable": false,
    "nbgrader": {
     "cell_type": "code",
     "checksum": "ab962d04ff327161dd545fd42ce9b2ee",
     "grade": false,
     "grade_id": "cell-91ce5ad3201d3840",
     "locked": false,
     "schema_version": 3,
     "solution": true,
     "task": false
    }
   },
   "outputs": [],
   "source": [
    "def get_vocabulary(corpus):\n",
    "    \"\"\"\n",
    "    Funkcja zwracająca listę unikalnych słów z korpusu podanego w formacie zmiennej english i spanish\n",
    "    \"\"\"\n",
    "    # YOUR CODE HERE\n",
    "    result = set()\n",
    "    for line in corpus:\n",
    "        for word in line:\n",
    "            result.add(word)\n",
    "            \n",
    "    return result"
   ]
  },
  {
   "cell_type": "code",
   "execution_count": 3,
   "metadata": {
    "deletable": false,
    "editable": false,
    "nbgrader": {
     "cell_type": "code",
     "checksum": "03f2fde3e2385f2037bcb146ba7914e5",
     "grade": true,
     "grade_id": "cell-69a37d074c36bafa",
     "locked": true,
     "points": 1,
     "schema_version": 3,
     "solution": false,
     "task": false
    }
   },
   "outputs": [],
   "source": [
    "from nose.tools import assert_set_equal\n",
    "assert_set_equal(set(get_vocabulary(english)), set([\"the\", \"green\", \"house\"]))"
   ]
  },
  {
   "cell_type": "markdown",
   "metadata": {},
   "source": [
    "Zainicjalizuj rozkład prawdopodobieństwa tłumaczenia słów rozkładem jednorodnym. Ponieważ zależy nam na prostocie implementacji (a nie efektywności) możemy to prawdopodobieństwo zaimplementować jako zwykły słownik, który będzie przyjmował na wejściu krotkę dwóch słów. Słownik nazwij `translation_prob` z kluczami (słowo_es, słowo_en)."
   ]
  },
  {
   "cell_type": "code",
   "execution_count": 4,
   "metadata": {
    "deletable": false,
    "nbgrader": {
     "cell_type": "code",
     "checksum": "c5f903d8e7d39b8ca60c841fe1ff55b3",
     "grade": false,
     "grade_id": "cell-d90e10211e9d2c82",
     "locked": false,
     "schema_version": 3,
     "solution": true,
     "task": false
    }
   },
   "outputs": [],
   "source": [
    "def initalize_translation_prob(corpus1, corpus2):\n",
    "    # YOUR CODE HERE\n",
    "    result = {}\n",
    "    set_en = get_vocabulary(corpus1)\n",
    "    set_es = get_vocabulary(corpus2)\n",
    "    P = 1 / len(set_en)\n",
    "    \n",
    "    for slowo_en in set_en:\n",
    "        for slowo_es in set_es:\n",
    "            result[(slowo_es, slowo_en)] = P\n",
    "\n",
    "    return result\n",
    "\n",
    "translation_prob = initalize_translation_prob(english, spanish)"
   ]
  },
  {
   "cell_type": "markdown",
   "metadata": {},
   "source": [
    "Wypisz zaincjalizowany słownik, żeby upewnić się że wynik jest prawidłowy."
   ]
  },
  {
   "cell_type": "code",
   "execution_count": 5,
   "metadata": {},
   "outputs": [
    {
     "data": {
      "text/plain": [
       "{('la', 'house'): 0.3333333333333333,\n",
       " ('casa', 'house'): 0.3333333333333333,\n",
       " ('verde', 'house'): 0.3333333333333333,\n",
       " ('la', 'the'): 0.3333333333333333,\n",
       " ('casa', 'the'): 0.3333333333333333,\n",
       " ('verde', 'the'): 0.3333333333333333,\n",
       " ('la', 'green'): 0.3333333333333333,\n",
       " ('casa', 'green'): 0.3333333333333333,\n",
       " ('verde', 'green'): 0.3333333333333333}"
      ]
     },
     "execution_count": 5,
     "metadata": {},
     "output_type": "execute_result"
    }
   ],
   "source": [
    "translation_prob"
   ]
  },
  {
   "cell_type": "markdown",
   "metadata": {},
   "source": [
    "Zaimplementuj pierwszy krok algorytmu EM. Wyznacz wartości oczekiwane zmiennych przypisania słowa we wszystkich zdaniach w korpusie (oznaczane na wykładzie jako `a`)."
   ]
  },
  {
   "cell_type": "code",
   "execution_count": 6,
   "metadata": {
    "deletable": false,
    "nbgrader": {
     "cell_type": "code",
     "checksum": "b120bdbf77612fba126fed52c1626544",
     "grade": false,
     "grade_id": "cell-20e467cd48dc07f4",
     "locked": false,
     "schema_version": 3,
     "solution": true,
     "task": false
    }
   },
   "outputs": [],
   "source": [
    "import collections\n",
    "\n",
    "\n",
    "def calculate_expectation(corpora1, corpora2, translation_prob):\n",
    "    \"\"\"\n",
    "    Procedura wykonująca krok \"E\" algorytmu EM\n",
    "    Wynikiem powinny być wartości oczekiwane dla zmiennej przypisań słów w zdaniach\n",
    "    (reprezentacja dowolna, nie weryfikowana przez sprawdzarkę)\n",
    "    \"\"\"\n",
    "    expected = {}\n",
    "\n",
    "    for k, (en_line, es_line) in enumerate(zip(corpora1, corpora2)):\n",
    "        for en_word in en_line:\n",
    "            for es_word in es_line:\n",
    "                expected[(k, es_word, en_word)] = translation_prob.get((es_word, en_word), 0)\n",
    "\n",
    "    combined = collections.defaultdict(float)\n",
    "    for (i, es_word, en_word), value in expected.items():\n",
    "        combined[(i, en_word)] += value\n",
    "\n",
    "    result = {(i, es_word, en_word): value / combined[(i, en_word)] for\n",
    "              (i, es_word, en_word), value in expected.items()}\n",
    "        \n",
    "    return result\n",
    "\n",
    "\n",
    "assigment_expected_values = calculate_expectation(english, spanish, translation_prob)"
   ]
  },
  {
   "cell_type": "markdown",
   "metadata": {},
   "source": [
    "Wypisz wartości oczekiwane zmiennych przypisań, aby zobaczyć jak wyglądają. Powinny one również prezentować całkowity brak wiedzy o przypisaniach (rozkłady jednorodne)."
   ]
  },
  {
   "cell_type": "code",
   "execution_count": 7,
   "metadata": {},
   "outputs": [
    {
     "data": {
      "text/plain": [
       "{(0, 'casa', 'green'): 0.5,\n",
       " (0, 'verde', 'green'): 0.5,\n",
       " (0, 'casa', 'house'): 0.5,\n",
       " (0, 'verde', 'house'): 0.5,\n",
       " (1, 'la', 'the'): 0.5,\n",
       " (1, 'casa', 'the'): 0.5,\n",
       " (1, 'la', 'house'): 0.5,\n",
       " (1, 'casa', 'house'): 0.5,\n",
       " (2, 'la', 'the'): 0.3333333333333333,\n",
       " (2, 'casa', 'the'): 0.3333333333333333,\n",
       " (2, 'verde', 'the'): 0.3333333333333333,\n",
       " (2, 'la', 'green'): 0.3333333333333333,\n",
       " (2, 'casa', 'green'): 0.3333333333333333,\n",
       " (2, 'verde', 'green'): 0.3333333333333333,\n",
       " (2, 'la', 'house'): 0.3333333333333333,\n",
       " (2, 'casa', 'house'): 0.3333333333333333,\n",
       " (2, 'verde', 'house'): 0.3333333333333333}"
      ]
     },
     "execution_count": 7,
     "metadata": {},
     "output_type": "execute_result"
    }
   ],
   "source": [
    "assigment_expected_values"
   ]
  },
  {
   "cell_type": "markdown",
   "metadata": {},
   "source": [
    "Zaimplementuj drugi krok algorytmu EM. Wyznacz nowe `translation_prob` na podstawie oczekiwanych wartości zmiennych przypisań."
   ]
  },
  {
   "cell_type": "code",
   "execution_count": 8,
   "metadata": {
    "deletable": false,
    "nbgrader": {
     "cell_type": "code",
     "checksum": "8f67c4062342e3a60cbbb1b28a783d37",
     "grade": false,
     "grade_id": "cell-5806efe4531f9f01",
     "locked": false,
     "schema_version": 3,
     "solution": true,
     "task": false
    }
   },
   "outputs": [],
   "source": [
    "import collections\n",
    "\n",
    "\n",
    "def calculate_maximization(corpora1, corpora2, assigment_expected_values):\n",
    "    # YOUR CODE HERE\n",
    "    p_es_en = collections.defaultdict(float)\n",
    "    p_total = collections.defaultdict(float)\n",
    "\n",
    "    for (k, es_word, en_word), p in assigment_expected_values.items():\n",
    "        p_es_en[(es_word, en_word)] += p\n",
    "        p_total[en_word] += p\n",
    "\n",
    "    result = {(es_word, en_word): p / p_total[en_word] for (es_word, en_word), p in p_es_en.items()}\n",
    "    return result\n",
    "\n",
    "translation_prob = calculate_maximization(english, spanish, assigment_expected_values)"
   ]
  },
  {
   "cell_type": "code",
   "execution_count": 9,
   "metadata": {
    "deletable": false,
    "editable": false,
    "nbgrader": {
     "cell_type": "code",
     "checksum": "0d92bddac888f1ab9d18c6ac43260456",
     "grade": true,
     "grade_id": "cell-4d5309aeab35f6c7",
     "locked": true,
     "points": 8,
     "schema_version": 3,
     "solution": false,
     "task": false
    }
   },
   "outputs": [],
   "source": [
    "from nose.tools import assert_almost_equal\n",
    "assert_almost_equal(translation_prob[('casa', 'house')], 4/9.)\n",
    "assert_almost_equal(translation_prob[('la', 'house')], 5/18.)"
   ]
  },
  {
   "cell_type": "markdown",
   "metadata": {},
   "source": [
    "Wywołaj w pętli 10 kroków algorytmu EM i zaobserwuj jak zmieniają się prawdopodobieństwa dla tłumacznienia \"house\"."
   ]
  },
  {
   "cell_type": "code",
   "execution_count": 10,
   "metadata": {},
   "outputs": [
    {
     "name": "stdout",
     "output_type": "stream",
     "text": [
      "[(('casa', 'house'), 0.5584045584045584), (('verde', 'house'), 0.22079772079772084), (('la', 'house'), 0.22079772079772084)]\n",
      "---\n",
      "[(('casa', 'house'), 0.6638923177619094), (('verde', 'house'), 0.16805384111904528), (('la', 'house'), 0.16805384111904528)]\n",
      "---\n",
      "[(('casa', 'house'), 0.7532968646774504), (('verde', 'house'), 0.12335156766127481), (('la', 'house'), 0.12335156766127481)]\n",
      "---\n",
      "[(('casa', 'house'), 0.8239601969358895), (('verde', 'house'), 0.08801990153205524), (('la', 'house'), 0.08801990153205524)]\n",
      "---\n",
      "[(('casa', 'house'), 0.8769766282684489), (('verde', 'house'), 0.061511685865775545), (('la', 'house'), 0.061511685865775545)]\n",
      "---\n",
      "[(('casa', 'house'), 0.915296630096382), (('verde', 'house'), 0.042351684951809056), (('la', 'house'), 0.042351684951809056)]\n",
      "---\n",
      "[(('casa', 'house'), 0.94228242707854), (('verde', 'house'), 0.028858786460729976), (('la', 'house'), 0.028858786460729976)]\n",
      "---\n",
      "[(('casa', 'house'), 0.9609498992371662), (('verde', 'house'), 0.019525050381416956), (('la', 'house'), 0.019525050381416956)]\n",
      "---\n",
      "[(('casa', 'house'), 0.9737073866187812), (('verde', 'house'), 0.013146306690609386), (('la', 'house'), 0.013146306690609386)]\n",
      "---\n",
      "[(('casa', 'house'), 0.9823548393048195), (('verde', 'house'), 0.008822580347590371), (('la', 'house'), 0.008822580347590371)]\n",
      "---\n"
     ]
    }
   ],
   "source": [
    "for i in range(10):\n",
    "    assigment_expected_values = calculate_expectation(english, spanish, translation_prob)\n",
    "    translation_prob = calculate_maximization(english, spanish, assigment_expected_values)\n",
    "    print([(i,j) for i,j in translation_prob.items() if i[1] == \"house\"])\n",
    "    print(\"---\")\n"
   ]
  },
  {
   "cell_type": "markdown",
   "metadata": {},
   "source": [
    "Wywołaj algorytm EM na poniższym korpusie."
   ]
  },
  {
   "cell_type": "code",
   "execution_count": 11,
   "metadata": {},
   "outputs": [],
   "source": [
    "english2 = [[\"the\",\"dog\"], [\"the\",\"house\"], [\"the\", \"green\", \"house\"]]\n",
    "polish = [[\"pies\"], [\"dom\"], [\"zielony\", \"dom\"]]"
   ]
  },
  {
   "cell_type": "code",
   "execution_count": 12,
   "metadata": {
    "deletable": false,
    "nbgrader": {
     "cell_type": "code",
     "checksum": "d7e69515106c187cdfce882609a23b6e",
     "grade": false,
     "grade_id": "cell-cff38f444b9c8d1a",
     "locked": false,
     "schema_version": 3,
     "solution": true,
     "task": false
    }
   },
   "outputs": [],
   "source": [
    "# YOUR CODE HERE\n",
    "translation_prob = initalize_translation_prob(english2, polish)\n",
    "for i in range(10):\n",
    "    assigment_expected_values = calculate_expectation(english2, polish, translation_prob)\n",
    "    translation_prob = calculate_maximization(english2, polish, assigment_expected_values)"
   ]
  },
  {
   "cell_type": "markdown",
   "metadata": {
    "deletable": false,
    "editable": false,
    "nbgrader": {
     "cell_type": "markdown",
     "checksum": "4755d83d4ecebe39866dccbb275fec90",
     "grade": false,
     "grade_id": "cell-9dfc99a37938134a",
     "locked": true,
     "points": 0,
     "schema_version": 3,
     "solution": false,
     "task": true
    }
   },
   "source": [
    "Sprawdź jak wyglądają prawdopodobieństwa tłumaczeń po 10 iteracjach."
   ]
  },
  {
   "cell_type": "code",
   "execution_count": 13,
   "metadata": {},
   "outputs": [
    {
     "data": {
      "text/plain": [
       "{('pies', 'the'): 0.3333333333333333,\n",
       " ('pies', 'dog'): 1.0,\n",
       " ('dom', 'the'): 0.6663411458333334,\n",
       " ('dom', 'house'): 0.99951171875,\n",
       " ('zielony', 'the'): 0.0003255208333333333,\n",
       " ('zielony', 'green'): 0.5,\n",
       " ('dom', 'green'): 0.5,\n",
       " ('zielony', 'house'): 0.00048828125}"
      ]
     },
     "execution_count": 13,
     "metadata": {},
     "output_type": "execute_result"
    }
   ],
   "source": [
    "translation_prob"
   ]
  },
  {
   "cell_type": "markdown",
   "metadata": {},
   "source": [
    "Sprawdź czy gdybyś dodał słówko `NULL` to algorytm nauczyłby się wiązać słówko `NULL` na `the`, które nie występuje w języku polskim?"
   ]
  },
  {
   "cell_type": "code",
   "execution_count": 14,
   "metadata": {
    "deletable": false,
    "nbgrader": {
     "cell_type": "code",
     "checksum": "916e8668bbff73c5896171de57b8e0f1",
     "grade": true,
     "grade_id": "cell-874a2c94ce1bd996",
     "locked": false,
     "points": 1,
     "schema_version": 3,
     "solution": true,
     "task": false
    }
   },
   "outputs": [],
   "source": [
    "# YOUR CODE HERE\n",
    "polish2 = [[\"NULL\"] + pl_line for pl_line in polish]\n",
    "translation_prob = initalize_translation_prob(english2, polish2)\n",
    "for i in range(10):\n",
    "    assigment_expected_values = calculate_expectation(english2, polish2, translation_prob)\n",
    "    translation_prob = calculate_maximization(english2, polish2, assigment_expected_values)"
   ]
  },
  {
   "cell_type": "code",
   "execution_count": 15,
   "metadata": {},
   "outputs": [
    {
     "data": {
      "text/plain": [
       "{('NULL', 'the'): 0.9884935162981091,\n",
       " ('pies', 'the'): 3.509562053739688e-05,\n",
       " ('NULL', 'dog'): 0.5,\n",
       " ('pies', 'dog'): 0.5,\n",
       " ('dom', 'the'): 0.01146338484277804,\n",
       " ('NULL', 'house'): 0.49983723958333337,\n",
       " ('dom', 'house'): 0.49983723958333337,\n",
       " ('zielony', 'the'): 8.00323857550188e-06,\n",
       " ('NULL', 'green'): 0.3333333333333333,\n",
       " ('zielony', 'green'): 0.3333333333333333,\n",
       " ('dom', 'green'): 0.3333333333333333,\n",
       " ('zielony', 'house'): 0.00032552083333333337}"
      ]
     },
     "execution_count": 15,
     "metadata": {},
     "output_type": "execute_result"
    }
   ],
   "source": [
    "translation_prob"
   ]
  },
  {
   "cell_type": "markdown",
   "metadata": {},
   "source": [
    "Jeśli wywołałbyś EM dla pierwszego korpusu równoległego (zmienne `english` i `spanish`) i dołączył tokeny `NULL` to EM tłumaczy NULL jako \"casa\" i \"house\" jako \"casa\" z takimi samymi prawdopodobieństwami. Dlaczego?"
   ]
  },
  {
   "cell_type": "markdown",
   "metadata": {
    "deletable": false,
    "nbgrader": {
     "cell_type": "markdown",
     "checksum": "688634a67e83abb3398e068a602702b7",
     "grade": true,
     "grade_id": "cell-0982ba49d3a2f657",
     "locked": false,
     "points": 1,
     "schema_version": 3,
     "solution": true,
     "task": false
    }
   },
   "source": [
    "W pierwszym korpusie równoległym mamy takie same długości zdań (a więc KAŻDY wyraz z jednego języka teoretycznie tłumaczy się na drugi język), w przypadku podanego wyżej korpusu równoległego języka polskiego pojawiały się wolne miejsca na token NULL."
   ]
  }
 ],
 "metadata": {
  "kernelspec": {
   "display_name": "Python 3",
   "language": "python",
   "name": "python3"
  },
  "language_info": {
   "codemirror_mode": {
    "name": "ipython",
    "version": 3
   },
   "file_extension": ".py",
   "mimetype": "text/x-python",
   "name": "python",
   "nbconvert_exporter": "python",
   "pygments_lexer": "ipython3",
   "version": "3.7.6"
  }
 },
 "nbformat": 4,
 "nbformat_minor": 2
}
