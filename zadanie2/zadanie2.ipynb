{
 "cells": [
  {
   "cell_type": "markdown",
   "metadata": {},
   "source": [
    "# Inżynieria lingwistyczna\n",
    "Ten notebook jest oceniany półautomatycznie. Nie twórz ani nie usuwaj komórek - struktura notebooka musi zostać zachowana. Odpowiedź wypełnij tam gdzie jest na to wskazane miejsce - odpowiedzi w innych miejscach nie będą sprawdzane (nie są widoczne dla sprawdzającego w systemie).\n",
    "\n",
    "Make sure you fill in any place that says `YOUR CODE HERE` or \"YOUR ANSWER HERE\"."
   ]
  },
  {
   "cell_type": "markdown",
   "metadata": {},
   "source": [
    "---"
   ]
  },
  {
   "cell_type": "markdown",
   "metadata": {},
   "source": [
    "# Zadanie domowe 2"
   ]
  },
  {
   "cell_type": "code",
   "execution_count": 4,
   "metadata": {},
   "outputs": [],
   "source": [
    "import pandas as pd\n",
    "import numpy as np\n",
    "       "
   ]
  },
  {
   "cell_type": "markdown",
   "metadata": {},
   "source": [
    "## Zadanie 1 - eksploracja przestrzeni zagnieżdżeń\n",
    "Wczytajmy do przestrzeni plik zagnieżdżeń, który należy pobrać ze strony:\n",
    "https://dl.fbaipublicfiles.com/fasttext/vectors-wiki/wiki.pl.vec Są to zagnieżdzenia dla języka polskiego uzyskane systemem fastText.\n",
    "\n",
    "Do przestrzeni wczytujemy tylko 100 tys. najczęstrzych słów, tak aby operacje przebiegały szybciej."
   ]
  },
  {
   "cell_type": "code",
   "execution_count": 5,
   "metadata": {
    "deletable": false,
    "editable": false,
    "nbgrader": {
     "cell_type": "code",
     "checksum": "ff72904e199199567cefa7ecc512bc5b",
     "grade": false,
     "grade_id": "cell-a4ed145fec4874e1",
     "locked": true,
     "schema_version": 3,
     "solution": false,
     "task": false
    }
   },
   "outputs": [],
   "source": [
    "import io\n",
    "def load_vectors(fname, limit = 100000):\n",
    "    fin = io.open(fname, 'r', encoding='utf-8', newline='\\n', errors='ignore')\n",
    "    n, d = map(int, fin.readline().split())\n",
    "    n = min(n,limit)\n",
    "    embeddings = np.empty((n,d), dtype = np.float)\n",
    "    words_idx = []\n",
    "    for i, line in enumerate(fin):\n",
    "        if i >= limit:\n",
    "            break\n",
    "        tokens = line.rstrip().split(' ')\n",
    "        words_idx.append(tokens[0])\n",
    "        embeddings[i] =  np.array(tokens[1:]).astype(np.float)\n",
    "    return words_idx, embeddings\n",
    "words_idx, embeddings = load_vectors('wiki.pl.vec')"
   ]
  },
  {
   "cell_type": "markdown",
   "metadata": {},
   "source": [
    "Poniższe zadania mają na celu poekserymentowanie z przestrzenią zagnieżdżeń, ale też zrozumienie stojącymi za nich operacji. Dozwolone jest korzystanie tylko z podstawowych operatorów Python i numpy (w szczególności zakaz dotyczy: sklearn, gensim, fasttext itd.)\n",
    "\n",
    "Jeśli potrzebujesz do dalszego przetwarzania przeprowadzenia jakichś normalizacji macierzy -- możesz wstępnie przetworzyć macierz zagnieżdzeń poniżej. Pamiętaj, że sprawdzarka będzie używała wywołań do `embeddings` (i `words_idx`) -- musisz nadpisać macierz zagnieżdzeń. To pole jest pomocnicze i nie podlega ocenie."
   ]
  },
  {
   "cell_type": "code",
   "execution_count": 37,
   "metadata": {
    "deletable": false,
    "nbgrader": {
     "cell_type": "code",
     "checksum": "bad4efac5cfe3b895e04c7d1d616878c",
     "grade": false,
     "grade_id": "cell-6fee4cb7a7fea5c4",
     "locked": false,
     "schema_version": 3,
     "solution": true,
     "task": false
    }
   },
   "outputs": [
    {
     "data": {
      "text/plain": [
       "{'</s>': 0,\n",
       " '.': 1,\n",
       " ',': 2,\n",
       " 'w': 3,\n",
       " '-': 4,\n",
       " ')': 5,\n",
       " '(': 6,\n",
       " \"'\": 7,\n",
       " 'i': 8,\n",
       " '–': 9,\n",
       " 'na': 10,\n",
       " 'z': 11,\n",
       " 'do': 12,\n",
       " 'się': 13,\n",
       " 'align': 14,\n",
       " 'roku': 15,\n",
       " 'a': 16,\n",
       " 'jest': 17,\n",
       " 'rd': 18,\n",
       " 'nie': 19,\n",
       " 'od': 20,\n",
       " 'o': 21,\n",
       " 'to': 22,\n",
       " '#': 23,\n",
       " 'przez': 24,\n",
       " 'left': 25,\n",
       " 'po': 26,\n",
       " 'score': 27,\n",
       " 'jako': 28,\n",
       " 'oraz': 29,\n",
       " '\"': 30,\n",
       " 'że': 31,\n",
       " 'został': 32,\n",
       " 'był': 33,\n",
       " 'm': 34,\n",
       " 'ur': 35,\n",
       " 'za': 36,\n",
       " 'r': 37,\n",
       " 'jego': 38,\n",
       " 'dla': 39,\n",
       " 'center': 40,\n",
       " 'tym': 41,\n",
       " 'pod': 42,\n",
       " 'cest': 43,\n",
       " 'latach': 44,\n",
       " 'dyskusja': 45,\n",
       " 'są': 46,\n",
       " 'jak': 47,\n",
       " 'the': 48,\n",
       " 'też': 49,\n",
       " '/': 50,\n",
       " 'ze': 51,\n",
       " 'miejsce': 52,\n",
       " 'polski': 53,\n",
       " 'linki': 54,\n",
       " 'zewnętrzne': 55,\n",
       " 'co': 56,\n",
       " 'także': 57,\n",
       " 'lub': 58,\n",
       " 'tego': 59,\n",
       " '?': 60,\n",
       " 'right': 61,\n",
       " 'in': 62,\n",
       " 'przy': 63,\n",
       " 'cet': 64,\n",
       " 'team': 65,\n",
       " 'ale': 66,\n",
       " 'który': 67,\n",
       " 's': 68,\n",
       " 'jednak': 69,\n",
       " 'ii': 70,\n",
       " 'ma': 71,\n",
       " 'również': 72,\n",
       " 'jej': 73,\n",
       " 'de': 74,\n",
       " 'lat': 75,\n",
       " 'brak': 76,\n",
       " 'we': 77,\n",
       " 'of': 78,\n",
       " 'seed': 79,\n",
       " 'podczas': 80,\n",
       " 'była': 81,\n",
       " 'które': 82,\n",
       " 'została': 83,\n",
       " 'września': 84,\n",
       " 'zm': 85,\n",
       " 'n': 86,\n",
       " 'ich': 87,\n",
       " 'miejscowość': 88,\n",
       " 'e': 89,\n",
       " 'czy': 90,\n",
       " 'świata': 91,\n",
       " 'gdzie': 92,\n",
       " 'wieku': 93,\n",
       " 'stycznia': 94,\n",
       " 'tylko': 95,\n",
       " 'według': 96,\n",
       " 'października': 97,\n",
       " 'maja': 98,\n",
       " 'miasta': 99,\n",
       " 'zobacz': 100,\n",
       " 'gmina': 101,\n",
       " 'tej': 102,\n",
       " 'nad': 103,\n",
       " 'polsce': 104,\n",
       " 'już': 105,\n",
       " 'grudnia': 106,\n",
       " 'u': 107,\n",
       " 'marca': 108,\n",
       " 'ten': 109,\n",
       " 'może': 110,\n",
       " 'p': 111,\n",
       " 'go': 112,\n",
       " 'sierpnia': 113,\n",
       " 'być': 114,\n",
       " 'było': 115,\n",
       " 'rok': 116,\n",
       " 'wieś': 117,\n",
       " 'opisu': 118,\n",
       " '%': 119,\n",
       " 'kwietnia': 120,\n",
       " 'listopada': 121,\n",
       " 'on': 122,\n",
       " 'czerwca': 123,\n",
       " 'nr': 124,\n",
       " 'wikidanych': 125,\n",
       " '°': 126,\n",
       " 'km': 127,\n",
       " '#patrz': 128,\n",
       " 'lipca': 129,\n",
       " 'później': 130,\n",
       " 'lutego': 131,\n",
       " 'były': 132,\n",
       " '•': 133,\n",
       " 'tak': 134,\n",
       " 'przed': 135,\n",
       " 'pierwszy': 136,\n",
       " 'św': 137,\n",
       " 'czasie': 138,\n",
       " 'która': 139,\n",
       " 'następnie': 140,\n",
       " 'powiecie': 141,\n",
       " 'wojny': 142,\n",
       " 'np': 143,\n",
       " 'b': 144,\n",
       " 'można': 145,\n",
       " 'znajduje': 146,\n",
       " '}}': 147,\n",
       " 'osób': 148,\n",
       " 'data': 149,\n",
       " 'ok': 150,\n",
       " 'warszawa': 151,\n",
       " 'd': 152,\n",
       " 'miasto': 153,\n",
       " 'części': 154,\n",
       " 'lata': 155,\n",
       " 'nazwa': 156,\n",
       " 'kraju': 157,\n",
       " 'obecnie': 158,\n",
       " 'by': 159,\n",
       " 'wraz': 160,\n",
       " 'x': 161,\n",
       " 't': 162,\n",
       " 'dwa': 163,\n",
       " 'liczba': 164,\n",
       " 'c': 165,\n",
       " 'linear': 166,\n",
       " 'część': 167,\n",
       " 'mieszkańców': 168,\n",
       " 'bardzo': 169,\n",
       " 'którym': 170,\n",
       " '+': 171,\n",
       " 'miejscu': 172,\n",
       " 'których': 173,\n",
       " 'bez': 174,\n",
       " 'gdy': 175,\n",
       " 'innych': 176,\n",
       " 'natomiast': 177,\n",
       " 'stanie': 178,\n",
       " 'im': 179,\n",
       " 'f': 180,\n",
       " 'której': 181,\n",
       " 'iii': 182,\n",
       " 'śmierci': 183,\n",
       " 'między': 184,\n",
       " 'około': 185,\n",
       " 'skład': 186,\n",
       " 'gminie': 187,\n",
       " 'stronie': 188,\n",
       " 'strona': 189,\n",
       " '!': 190,\n",
       " 'jeszcze': 191,\n",
       " 'and': 192,\n",
       " 'udział': 193,\n",
       " 'zespół': 194,\n",
       " '}': 195,\n",
       " 'j': 196,\n",
       " 'kościół': 197,\n",
       " 'danych': 198,\n",
       " 'inne': 199,\n",
       " 'jan': 200,\n",
       " 'tam': 201,\n",
       " 'raz': 202,\n",
       " 'jeden': 203,\n",
       " 'miał': 204,\n",
       " 'tych': 205,\n",
       " 'te': 206,\n",
       " 'polskiego': 207,\n",
       " 'isbn': 208,\n",
       " 'tu': 209,\n",
       " 'gminy': 210,\n",
       " 'polska': 211,\n",
       " 'dwóch': 212,\n",
       " 'wsi': 213,\n",
       " 'województwie': 214,\n",
       " 'grupy': 215,\n",
       " 'którego': 216,\n",
       " 'wynik': 217,\n",
       " '−': 218,\n",
       " 'nim': 219,\n",
       " 'l': 220,\n",
       " 'wśród': 221,\n",
       " 'mu': 222,\n",
       " 'mistrzostw': 223,\n",
       " 'kiedy': 224,\n",
       " 'nich': 225,\n",
       " 'kod': 226,\n",
       " 'lista': 227,\n",
       " 'mm': 228,\n",
       " 'bgcolor': 229,\n",
       " 'http': 230,\n",
       " 'polskiej': 231,\n",
       " 'francji': 232,\n",
       " 'zespołu': 233,\n",
       " 'usa': 234,\n",
       " 'zostały': 235,\n",
       " 'warszawie': 236,\n",
       " 'jpg': 237,\n",
       " 'światowej': 238,\n",
       " 'tytuł': 239,\n",
       " 'album': 240,\n",
       " 'względem': 241,\n",
       " 'kościoła': 242,\n",
       " 'zdobył': 243,\n",
       " 'rodziny': 244,\n",
       " 'położona': 245,\n",
       " 'amerykański': 246,\n",
       " 'medal': 247,\n",
       " 'ul': 248,\n",
       " 'samym': 249,\n",
       " 'v': 250,\n",
       " 'wielu': 251,\n",
       " 'opis': 252,\n",
       " 'pracy': 253,\n",
       " 'sezonie': 254,\n",
       " 'sie': 255,\n",
       " 'miejscowości': 256,\n",
       " 'związku': 257,\n",
       " 'czas': 258,\n",
       " 'pierwsze': 259,\n",
       " 'europy': 260,\n",
       " 'ang': 261,\n",
       " 'wiele': 262,\n",
       " 'k': 263,\n",
       " 'kilka': 264,\n",
       " 'trzy': 265,\n",
       " 'źródło': 266,\n",
       " 'typu': 267,\n",
       " 'historii': 268,\n",
       " 'ta': 269,\n",
       " 'niż': 270,\n",
       " 'strony': 271,\n",
       " 'aby': 272,\n",
       " 'ludności': 273,\n",
       " 'nawet': 274,\n",
       " 'la': 275,\n",
       " 'mapy': 276,\n",
       " 'jednym': 277,\n",
       " 'terenie': 278,\n",
       " 'cm': 279,\n",
       " 'okresie': 280,\n",
       " 'piłkarz': 281,\n",
       " 'film': 282,\n",
       " 'bo': 283,\n",
       " 'początku': 284,\n",
       " 'należy': 285,\n",
       " 'ją': 286,\n",
       " 'powierzchni': 287,\n",
       " 'h': 288,\n",
       " 'plik': 289,\n",
       " 'wszystkich': 290,\n",
       " 'armii': 291,\n",
       " 'gęstość': 292,\n",
       " 'jeśli': 293,\n",
       " 'głównie': 294,\n",
       " 'dnia': 295,\n",
       " '//www': 296,\n",
       " 'województwa': 297,\n",
       " 'ponad': 298,\n",
       " 'dzięki': 299,\n",
       " 'kariera': 300,\n",
       " 'wszystkie': 301,\n",
       " 'czyli': 302,\n",
       " 'rady': 303,\n",
       " 'więc': 304,\n",
       " 'życia': 305,\n",
       " 'xx': 306,\n",
       " 'prawa': 307,\n",
       " 'miejsca': 308,\n",
       " 'otrzymał': 309,\n",
       " 'mają': 310,\n",
       " 'wówczas': 311,\n",
       " 'jana': 312,\n",
       " 'zostało': 313,\n",
       " 'mistrzostwa': 314,\n",
       " 'mar': 315,\n",
       " 'profil': 316,\n",
       " 'regionie': 317,\n",
       " 'polskich': 318,\n",
       " 'często': 319,\n",
       " 'je': 320,\n",
       " 'gole': 321,\n",
       " 'zaś': 322,\n",
       " 'commons': 323,\n",
       " 'sposób': 324,\n",
       " 'będzie': 325,\n",
       " 'g': 326,\n",
       " 'hrabstwie': 327,\n",
       " 'pierwszym': 328,\n",
       " 'dwie': 329,\n",
       " 'jednostka': 330,\n",
       " 'pozycji': 331,\n",
       " 'wrz': 332,\n",
       " 'xix': 333,\n",
       " 'nowy': 334,\n",
       " 'miała': 335,\n",
       " 'osoby': 336,\n",
       " 'artykuł': 337,\n",
       " 'poza': 338,\n",
       " 'tzw': 339,\n",
       " 'grupa': 340,\n",
       " 'pomiędzy': 341,\n",
       " 'jedynie': 342,\n",
       " 'rozpoczął': 343,\n",
       " '#e': 344,\n",
       " 'którzy': 345,\n",
       " 'sam': 346,\n",
       " 'linii': 347,\n",
       " 'połowie': 348,\n",
       " 'pierwszej': 349,\n",
       " 'com': 350,\n",
       " 'sobie': 351,\n",
       " 'von': 352,\n",
       " 'celu': 353,\n",
       " 'wojska': 354,\n",
       " 'ffe': 355,\n",
       " 'polityk': 356,\n",
       " 'john': 357,\n",
       " 'lip': 358,\n",
       " 'liczby': 359,\n",
       " 'razem': 360,\n",
       " 'centrum': 361,\n",
       " 'szkoły': 362,\n",
       " 'zaludnienia': 363,\n",
       " 'należała': 364,\n",
       " 'reprezentacji': 365,\n",
       " 'parafia': 366,\n",
       " 'ponownie': 367,\n",
       " 'cze': 368,\n",
       " 'swoją': 369,\n",
       " 'piechoty': 370,\n",
       " 'trener': 371,\n",
       " 'kg': 372,\n",
       " 'koniec': 373,\n",
       " 'takie': 374,\n",
       " 'bardziej': 375,\n",
       " 'klub': 376,\n",
       " 'drugiej': 377,\n",
       " 'muzeum': 378,\n",
       " 'sty': 379,\n",
       " 'swoje': 380,\n",
       " 'niej': 381,\n",
       " 'występuje': 382,\n",
       " 'ziemi': 383,\n",
       " 'gatunek': 384,\n",
       " 'width': 385,\n",
       " 'zjednoczonych': 386,\n",
       " 'pl': 387,\n",
       " 'wcześniej': 388,\n",
       " 'partii': 389,\n",
       " 'stadion': 390,\n",
       " 'klubu': 391,\n",
       " 'lut': 392,\n",
       " 'dzieci': 393,\n",
       " 'mistrzostwach': 394,\n",
       " 'wyniku': 395,\n",
       " 'trzech': 396,\n",
       " 'one': 397,\n",
       " 'byli': 398,\n",
       " 'iv': 399,\n",
       " 'stanisław': 400,\n",
       " 'czym': 401,\n",
       " 'style': 402,\n",
       " 'olimpijskich': 403,\n",
       " 'język': 404,\n",
       " 'rodzaj': 405,\n",
       " 'www': 406,\n",
       " 'kwi': 407,\n",
       " 'czasu': 408,\n",
       " 'najbardziej': 409,\n",
       " 'al': 410,\n",
       " 'zajął': 411,\n",
       " 'kategorii': 412,\n",
       " 'historia': 413,\n",
       " 'niego': 414,\n",
       " 'podstawie': 415,\n",
       " 'zsrr': 416,\n",
       " 'względu': 417,\n",
       " 'mogą': 418,\n",
       " 'metrów': 419,\n",
       " 'nazwę': 420,\n",
       " 'meczu': 421,\n",
       " 'oficjalna': 422,\n",
       " 'wikipedii': 423,\n",
       " 'powodu': 424,\n",
       " 'innymi': 425,\n",
       " 'paź': 426,\n",
       " 'pracował': 427,\n",
       " 'ukończył': 428,\n",
       " 'igrzyskach': 429,\n",
       " 'gru': 430,\n",
       " 'król': 431,\n",
       " 'andrzej': 432,\n",
       " 'administracyjnie': 433,\n",
       " 'przypadku': 434,\n",
       " 'ks': 435,\n",
       " 'swojej': 436,\n",
       " 'lis': 437,\n",
       " 'jedną': 438,\n",
       " 'ramach': 439,\n",
       " 'prowincji': 440,\n",
       " 'puchar': 441,\n",
       " 'gminę': 442,\n",
       " 'drugi': 443,\n",
       " 'działalność': 444,\n",
       " 'początkowo': 445,\n",
       " 'funkcję': 446,\n",
       " 'wojnie': 447,\n",
       " 'takich': 448,\n",
       " 'tys': 449,\n",
       " 'wydawnictwo': 450,\n",
       " 'państwa': 451,\n",
       " 'temat': 452,\n",
       " 'sezon': 453,\n",
       " 'uniwersytetu': 454,\n",
       " 'lecz': 455,\n",
       " 'ona': 456,\n",
       " 'nazwy': 457,\n",
       " 'życie': 458,\n",
       " 'nowe': 459,\n",
       " 'różnych': 460,\n",
       " 'parafii': 461,\n",
       " 'gmin': 462,\n",
       " 'drużyna': 463,\n",
       " 'kilku': 464,\n",
       " 'ligi': 465,\n",
       " 'niemiecki': 466,\n",
       " 'narodowej': 467,\n",
       " 'kultury': 468,\n",
       " 'króla': 469,\n",
       " 'spacewatch': 470,\n",
       " 'wtedy': 471,\n",
       " 'postaci': 472,\n",
       " 'aktor': 473,\n",
       " 'dni': 474,\n",
       " 'syn': 475,\n",
       " 'którą': 476,\n",
       " 'studia': 477,\n",
       " 'większość': 478,\n",
       " 'członkiem': 479,\n",
       " 'gry': 480,\n",
       " 'mieście': 481,\n",
       " 'karierę': 482,\n",
       " 'potem': 483,\n",
       " 'produkcji': 484,\n",
       " 'turnieju': 485,\n",
       " 'bazie': 486,\n",
       " 'długości': 487,\n",
       " 'wielkiej': 488,\n",
       " 'znajdują': 489,\n",
       " 'wynosiła': 490,\n",
       " 'kobiet': 491,\n",
       " 'pierwsza': 492,\n",
       " 'wysokości': 493,\n",
       " 'gitara': 494,\n",
       " 'from': 495,\n",
       " 'wyd': 496,\n",
       " 'no': 497,\n",
       " 'system': 498,\n",
       " 'category': 499,\n",
       " 'px': 500,\n",
       " 'mi': 501,\n",
       " 'józef': 502,\n",
       " 'new': 503,\n",
       " 'ciągu': 504,\n",
       " 'stanu': 505,\n",
       " 'stacja': 506,\n",
       " 'zmarł': 507,\n",
       " 'więcej': 508,\n",
       " 'bar': 509,\n",
       " 'sztuki': 510,\n",
       " 'numer': 511,\n",
       " 'gra': 512,\n",
       " 'jerzy': 513,\n",
       " 'maj': 514,\n",
       " 'mimo': 515,\n",
       " 'ludzi': 516,\n",
       " 'red': 517,\n",
       " 'woj': 518,\n",
       " 'nagrody': 519,\n",
       " 'dopiero': 520,\n",
       " 'ponadto': 521,\n",
       " 'klasyfikacji': 522,\n",
       " 'mnie': 523,\n",
       " 'posiada': 524,\n",
       " 'maria': 525,\n",
       " 'ponieważ': 526,\n",
       " 'polskie': 527,\n",
       " 'organizacji': 528,\n",
       " 'albo': 529,\n",
       " 'poprzez': 530,\n",
       " 'siedzibą': 531,\n",
       " 'aż': 532,\n",
       " 'serii': 533,\n",
       " 'iż': 534,\n",
       " 'dr': 535,\n",
       " 'jednego': 536,\n",
       " 'kraków': 537,\n",
       " 'park': 538,\n",
       " 'źródeł': 539,\n",
       " 'powiatu': 540,\n",
       " 'rodzaju': 541,\n",
       " 'pochodzi': 542,\n",
       " 'południowej': 543,\n",
       " 'cztery': 544,\n",
       " 'długość': 545,\n",
       " 'członek': 546,\n",
       " 'końca': 547,\n",
       " 'hasło': 548,\n",
       " 'odc': 549,\n",
       " 'zadebiutował': 550,\n",
       " 'stanowisko': 551,\n",
       " 'kluby': 552,\n",
       " 'informacje': 553,\n",
       " 'domu': 554,\n",
       " '—': 555,\n",
       " 'utworów': 556,\n",
       " 'piotr': 557,\n",
       " 'krakowie': 558,\n",
       " 'ostatecznie': 559,\n",
       " 'zarówno': 560,\n",
       " 'robert': 561,\n",
       " 'stan': 562,\n",
       " 'powiat': 563,\n",
       " 'leży': 564,\n",
       " 'swój': 565,\n",
       " 'autor': 566,\n",
       " 'przeciwko': 567,\n",
       " 'północnej': 568,\n",
       " 'powierzchnia': 569,\n",
       " 'mężczyzn': 570,\n",
       " 'anglii': 571,\n",
       " 'swoich': 572,\n",
       " '&': 573,\n",
       " 'jedna': 574,\n",
       " 'akademii': 575,\n",
       " 'informacji': 576,\n",
       " 'wersja': 577,\n",
       " 'hasła': 578,\n",
       " 'wystąpił': 579,\n",
       " 'nowego': 580,\n",
       " 'krzyż': 581,\n",
       " 'prawo': 582,\n",
       " 'der': 583,\n",
       " 'źródła': 584,\n",
       " 'nauk': 585,\n",
       " 'wersji': 586,\n",
       " 'okres': 587,\n",
       " 'uniwersytecie': 588,\n",
       " 'zachód': 589,\n",
       " 'wyniki': 590,\n",
       " 'żołnierzy': 591,\n",
       " 'nowym': 592,\n",
       " 'swoim': 593,\n",
       " 'świecie': 594,\n",
       " 'uzyskał': 595,\n",
       " 'walki': 596,\n",
       " 'swojego': 597,\n",
       " 'ruchu': 598,\n",
       " 'jednostki': 599,\n",
       " 'van': 600,\n",
       " 'pełnił': 601,\n",
       " 'natywna': 602,\n",
       " 'albumu': 603,\n",
       " 'choć': 604,\n",
       " 'ja': 605,\n",
       " 'nowej': 606,\n",
       " 'obszar': 607,\n",
       " 'warunki': 608,\n",
       " 'sędzia': 609,\n",
       " 'wojsk': 610,\n",
       " 'pierwszego': 611,\n",
       " 'spraw': 612,\n",
       " 'chyba': 613,\n",
       " 'departamencie': 614,\n",
       " 'działania': 615,\n",
       " 'world': 616,\n",
       " 'pucharu': 617,\n",
       " 'filmu': 618,\n",
       " 'prawdopodobnie': 619,\n",
       " 'członków': 620,\n",
       " 'zachodniej': 621,\n",
       " 'sezonu': 622,\n",
       " 'dzień': 623,\n",
       " 'listy': 624,\n",
       " 'ros': 625,\n",
       " 'san': 626,\n",
       " 'wobec': 627,\n",
       " 'wschód': 628,\n",
       " 'główne': 629,\n",
       " 'rolę': 630,\n",
       " 'gromady': 631,\n",
       " 'wschodniej': 632,\n",
       " 'powstała': 633,\n",
       " 'pułk': 634,\n",
       " 'muzyka': 635,\n",
       " 'powstania': 636,\n",
       " 'wynosi': 637,\n",
       " 'stopnin': 638,\n",
       " 'artykułu': 639,\n",
       " 'prace': 640,\n",
       " 'rosji': 641,\n",
       " 'gdyż': 642,\n",
       " 'kierunku': 643,\n",
       " 'głównego': 644,\n",
       " 'prędkość': 645,\n",
       " 'trakcie': 646,\n",
       " 'okręgu': 647,\n",
       " 'kolei': 648,\n",
       " 'francuski': 649,\n",
       " 'sekundn': 650,\n",
       " 'minutn': 651,\n",
       " 'złoty': 652,\n",
       " 'gol': 653,\n",
       " 'border': 654,\n",
       " 'jednocześnie': 655,\n",
       " 'klasy': 656,\n",
       " 'podobnie': 657,\n",
       " 'nagroda': 658,\n",
       " 'mocy': 659,\n",
       " 'stał': 660,\n",
       " 'wszystkim': 661,\n",
       " 'sił': 662,\n",
       " 'szkoła': 663,\n",
       " 'pułku': 664,\n",
       " 'niemczech': 665,\n",
       " 'służby': 666,\n",
       " 'znany': 667,\n",
       " 'każdy': 668,\n",
       " 'jednej': 669,\n",
       " 'text': 670,\n",
       " 'mapa': 671,\n",
       " 'raport': 672,\n",
       " 'ani': 673,\n",
       " 'dowódca': 674,\n",
       " 'for': 675,\n",
       " 'lidze': 676,\n",
       " 'powstał': 677,\n",
       " 'samego': 678,\n",
       " 'tutaj': 679,\n",
       " 'komitetu': 680,\n",
       " 'wody': 681,\n",
       " 'stanowi': 682,\n",
       " 'pracę': 683,\n",
       " 'drużyny': 684,\n",
       " 'matki': 685,\n",
       " 'podział': 686,\n",
       " 'xviii': 687,\n",
       " 'siebie': 688,\n",
       " 'siły': 689,\n",
       " 'grał': 690,\n",
       " 'jeżeli': 691,\n",
       " 'da': 692,\n",
       " 'typ': 693,\n",
       " 'wiki': 694,\n",
       " 'czego': 695,\n",
       " 'prezydent': 696,\n",
       " 'dlatego': 697,\n",
       " 'mistrzostwo': 698,\n",
       " 'występował': 699,\n",
       " 'książę': 700,\n",
       " 'mistrz': 701,\n",
       " 'zgodnie': 702,\n",
       " 'pochodzenia': 703,\n",
       " 'biskup': 704,\n",
       " 'ego': 705,\n",
       " 'wielki': 706,\n",
       " 'ulicy': 707,\n",
       " 'liście': 708,\n",
       " 'color': 709,\n",
       " 'stylu': 710,\n",
       " 'km²': 711,\n",
       " 'ciała': 712,\n",
       " 'pozycja': 713,\n",
       " 'stacji': 714,\n",
       " 'nic': 715,\n",
       " 'komisji': 716,\n",
       " 'rzeki': 717,\n",
       " 'gen': 718,\n",
       " 'you': 719,\n",
       " 'rzeczypospolitej': 720,\n",
       " 'właśnie': 721,\n",
       " 'dobrze': 722,\n",
       " 'hrabstwo': 723,\n",
       " 'david': 724,\n",
       " 'budynek': 725,\n",
       " 'istnieje': 726,\n",
       " 'wydany': 727,\n",
       " 'st': 728,\n",
       " 'prawie': 729,\n",
       " 'przeszedł': 730,\n",
       " 'adam': 731,\n",
       " 'polskim': 732,\n",
       " 'urodził': 733,\n",
       " 'aktorka': 734,\n",
       " 'saint': 735,\n",
       " 'dom': 736,\n",
       " 'port': 737,\n",
       " 'niem': 738,\n",
       " 'pow': 739,\n",
       " 'razy': 740,\n",
       " 'zdjęcia': 741,\n",
       " 'dyskusji': 742,\n",
       " 'najlepszy': 743,\n",
       " 'rozwoju': 744,\n",
       " 'dane': 745,\n",
       " 'dziś': 746,\n",
       " 'tę': 747,\n",
       " 'tom': 748,\n",
       " 'związek': 749,\n",
       " 'podziału': 750,\n",
       " 'obrony': 751,\n",
       " 'oprócz': 752,\n",
       " 'grand': 753,\n",
       " 'zmiany': 754,\n",
       " 'brązowy': 755,\n",
       " 'biegu': 756,\n",
       " 'rząd': 757,\n",
       " 'ostatni': 758,\n",
       " 'bieg': 759,\n",
       " 'zamieszkiwało': 760,\n",
       " 'miały': 761,\n",
       " 'języku': 762,\n",
       " 'reż': 763,\n",
       " 'liczyła': 764,\n",
       " 'kolor': 765,\n",
       " 'projektu': 766,\n",
       " 'pobliżu': 767,\n",
       " 'zawiera': 768,\n",
       " 'prezydenta': 769,\n",
       " 'utwór': 770,\n",
       " 'pierwszą': 771,\n",
       " 'czasem': 772,\n",
       " 'fc': 773,\n",
       " 'linia': 774,\n",
       " 'nowa': 775,\n",
       " 'premiera': 776,\n",
       " 'świętego': 777,\n",
       " 'głównym': 778,\n",
       " 'stanach': 779,\n",
       " 'orderu': 780,\n",
       " 'till': 781,\n",
       " 'pierwszych': 782,\n",
       " 'prof': 783,\n",
       " 'działacz': 784,\n",
       " 'najczęściej': 785,\n",
       " 'niektórych': 786,\n",
       " 'rzecz': 787,\n",
       " 'di': 788,\n",
       " 'imię': 789,\n",
       " 'niemiec': 790,\n",
       " 'art': 791,\n",
       " 'ochrony': 792,\n",
       " 'kolejne': 793,\n",
       " 'miało': 794,\n",
       " 'języka': 795,\n",
       " 'łodzi': 796,\n",
       " 'masa': 797,\n",
       " 'le': 798,\n",
       " 'rodzina': 799,\n",
       " 'punktów': 800,\n",
       " 'ojciec': 801,\n",
       " 'diecezji': 802,\n",
       " 'ency': 803,\n",
       " 'ha': 804,\n",
       " 'tadeusz': 805,\n",
       " 'coś': 806,\n",
       " 'postać': 807,\n",
       " 'at': 808,\n",
       " '→': 809,\n",
       " 'czterech': 810,\n",
       " 'sety': 811,\n",
       " 'kadencji': 812,\n",
       " 'dniu': 813,\n",
       " 'góry': 814,\n",
       " 'towarzystwa': 815,\n",
       " 'nazwą': 816,\n",
       " 'paweł': 817,\n",
       " 'występy': 818,\n",
       " 'artykułów': 819,\n",
       " 'droga': 820,\n",
       " 'hiszpanii': 821,\n",
       " 'michael': 822,\n",
       " 'działalności': 823,\n",
       " 'brytanii': 824,\n",
       " 'igrzysk': 825,\n",
       " 'obok': 826,\n",
       " 'punkty': 827,\n",
       " 'budowy': 828,\n",
       " 'odległości': 829,\n",
       " 'stanisława': 830,\n",
       " 'przede': 831,\n",
       " 'los': 832,\n",
       " 'kraj': 833,\n",
       " 'występywreprezentacji': 834,\n",
       " 'anna': 835,\n",
       " 'słowo': 836,\n",
       " 'władzy': 837,\n",
       " 'paul': 838,\n",
       " 'zakończeniu': 839,\n",
       " 'urząd': 840,\n",
       " 'xvi': 841,\n",
       " 'osób/km²': 842,\n",
       " 'kategoria': 843,\n",
       " 'gromada': 844,\n",
       " 'pt': 845,\n",
       " 'michał': 846,\n",
       " 'srebrny': 847,\n",
       " 'partia': 848,\n",
       " 'okresu': 849,\n",
       " 'dostęp': 850,\n",
       " 'y': 851,\n",
       " 'ss': 852,\n",
       " 'pomocą': 853,\n",
       " 'tablice': 854,\n",
       " 'narodowego': 855,\n",
       " 'powrócił': 856,\n",
       " 'rp': 857,\n",
       " 'pomocy': 858,\n",
       " 'pisarz': 859,\n",
       " 'program': 860,\n",
       " 'wydziału': 861,\n",
       " 'artylerii': 862,\n",
       " 'stopnia': 863,\n",
       " 'józefa': 864,\n",
       " 'niektóre': 865,\n",
       " 'brał': 866,\n",
       " 'wzrost': 867,\n",
       " 'ds': 868,\n",
       " 'nigdy': 869,\n",
       " 'krzysztof': 870,\n",
       " 'wielkiego': 871,\n",
       " 'university': 872,\n",
       " 'projekt': 873,\n",
       " 'dywizji': 874,\n",
       " 'stanów': 875,\n",
       " 'nauki': 876,\n",
       " 'wybrany': 877,\n",
       " 'wkrótce': 878,\n",
       " 'gatunków': 879,\n",
       " 'wyborach': 880,\n",
       " 'wielka': 881,\n",
       " 'edycji': 882,\n",
       " 'temu': 883,\n",
       " 'ktoś': 884,\n",
       " 'marek': 885,\n",
       " 'drogi': 886,\n",
       " 'mam': 887,\n",
       " 'badania': 888,\n",
       " 'szczególnie': 889,\n",
       " 'systemu': 890,\n",
       " 'george': 891,\n",
       " 'niemcy': 892,\n",
       " 'en': 893,\n",
       " 'neat': 894,\n",
       " 'piosenki': 895,\n",
       " 'człowieka': 896,\n",
       " 'order': 897,\n",
       " 'kolejnych': 898,\n",
       " 'plasuje': 899,\n",
       " 'serialu': 900,\n",
       " 'zwłaszcza': 901,\n",
       " 'obu': 902,\n",
       " '×': 903,\n",
       " 'formie': 904,\n",
       " 'vi': 905,\n",
       " 'oznacza': 906,\n",
       " 'brytyjski': 907,\n",
       " 'szkole': 908,\n",
       " 'produkcja': 909,\n",
       " 'poznań': 910,\n",
       " 'uss': 911,\n",
       " 'zawsze': 912,\n",
       " 'wojna': 913,\n",
       " 'kazimierz': 914,\n",
       " 'rejonie': 915,\n",
       " 'cały': 916,\n",
       " 'nowych': 917,\n",
       " 'min': 918,\n",
       " 'przeciw': 919,\n",
       " 'województwo': 920,\n",
       " 'księcia': 921,\n",
       " 'urzędu': 922,\n",
       " 'akcji': 923,\n",
       " 'henryk': 924,\n",
       " 'obszarze': 925,\n",
       " 'me': 926,\n",
       " 'zakończył': 927,\n",
       " 'badań': 928,\n",
       " 'odbył': 929,\n",
       " 'regionu': 930,\n",
       " 'poznaniu': 931,\n",
       " 'czasów': 932,\n",
       " 'średniej': 933,\n",
       " 'angielski': 934,\n",
       " 'reżyseria': 935,\n",
       " 'nadal': 936,\n",
       " 'james': 937,\n",
       " 'us': 938,\n",
       " 'william': 939,\n",
       " 'singel': 940,\n",
       " 'juniorów': 941,\n",
       " 'koło': 942,\n",
       " 'północ': 943,\n",
       " 'oddział': 944,\n",
       " 'władysław': 945,\n",
       " 'końcu': 946,\n",
       " 'zasługi': 947,\n",
       " 'administracyjna': 948,\n",
       " 'objął': 949,\n",
       " 'układ': 950,\n",
       " 'klubie': 951,\n",
       " 'des': 952,\n",
       " 'występują': 953,\n",
       " 'scenariusz': 954,\n",
       " 'europie': 955,\n",
       " 'taki': 956,\n",
       " 'pan': 957,\n",
       " 'linie': 958,\n",
       " 'drugie': 959,\n",
       " 'doszło': 960,\n",
       " 'główny': 961,\n",
       " 'władze': 962,\n",
       " 'dwukrotnie': 963,\n",
       " 'katolicki': 964,\n",
       " 'raczej': 965,\n",
       " 'dość': 966,\n",
       " 'liga': 967,\n",
       " 'prac': 968,\n",
       " 'niestandardowe': 969,\n",
       " 'włoski': 970,\n",
       " 'wyłącznie': 971,\n",
       " 'wspólnie': 972,\n",
       " 'zwykle': 973,\n",
       " 'premier': 974,\n",
       " 'drugim': 975,\n",
       " 'prowadził': 976,\n",
       " 'wrocław': 977,\n",
       " 'trzeba': 978,\n",
       " 'role': 979,\n",
       " 'dniach': 980,\n",
       " 'przejścia': 981,\n",
       " 'większości': 982,\n",
       " 'wysokość': 983,\n",
       " 'kariery': 984,\n",
       " 'prowadzi': 985,\n",
       " 'city': 986,\n",
       " 'wydania': 987,\n",
       " 'programu': 988,\n",
       " 'rejestracyjne': 989,\n",
       " 'mniej': 990,\n",
       " 'firmy': 991,\n",
       " 'tomasz': 992,\n",
       " 'znacznie': 993,\n",
       " 'nią': 994,\n",
       " 'republiki': 995,\n",
       " 'tysięcy': 996,\n",
       " 'liczne': 997,\n",
       " 'q': 998,\n",
       " 'granicy': 999,\n",
       " ...}"
      ]
     },
     "execution_count": 37,
     "metadata": {},
     "output_type": "execute_result"
    }
   ],
   "source": [
    "# YOUR CODE HERE\n",
    "words_idx = dict([(w, i) for i, w in enumerate(words_idx)])\n",
    "words_idx"
   ]
  },
  {
   "cell_type": "markdown",
   "metadata": {},
   "source": [
    "Zaimplementuj funkcję, która obliczy podobieństwo kosinusowe pomiędzy dwoma wyrazami."
   ]
  },
  {
   "cell_type": "code",
   "execution_count": 10,
   "metadata": {
    "deletable": false,
    "nbgrader": {
     "cell_type": "code",
     "checksum": "89e46295053248c56d68caf5a00e3a81",
     "grade": false,
     "grade_id": "cell-433776f5de68cf95",
     "locked": false,
     "schema_version": 3,
     "solution": true,
     "task": false
    }
   },
   "outputs": [],
   "source": [
    "def calc_sim(word_a, word_b, words_idx, embeddings):\n",
    "    # YOUR CODE HERE\n",
    "    # from: https://skipperkongen.dk/2018/09/19/cosine-similarity-in-python/\n",
    "    a = embeddings[words_idx[word_a]]\n",
    "    b = embeddings[words_idx[word_b]]\n",
    "    dot = np.dot(a, b)\n",
    "    norm_a = np.linalg.norm(a)\n",
    "    norm_b = np.linalg.norm(b)\n",
    "    \n",
    "    return dot / (norm_a * norm_b)"
   ]
  },
  {
   "cell_type": "code",
   "execution_count": 11,
   "metadata": {
    "deletable": false,
    "editable": false,
    "nbgrader": {
     "cell_type": "code",
     "checksum": "1a0436c8372e1c2bc61b92bd05a6c765",
     "grade": true,
     "grade_id": "cell-890341bd1cbcc5d2",
     "locked": true,
     "points": 1,
     "schema_version": 3,
     "solution": false,
     "task": false
    }
   },
   "outputs": [],
   "source": [
    "from nose.tools import assert_almost_equal\n",
    "assert_almost_equal(calc_sim(\"bieber\", \"rihanna\", words_idx, embeddings), calc_sim(\"rihanna\", \"bieber\", words_idx, embeddings))"
   ]
  },
  {
   "cell_type": "markdown",
   "metadata": {},
   "source": [
    "Policz podobieństwo pomiędzy wyrazem `bieber` a wyrazami:\n",
    "    - `rihanna`\n",
    "    - `piłsudski`\n",
    "    - `kanada`\n",
    "    - `polska`\n",
    "    - `piosenka`"
   ]
  },
  {
   "cell_type": "code",
   "execution_count": 12,
   "metadata": {},
   "outputs": [
    {
     "data": {
      "text/plain": [
       "0.524583248263655"
      ]
     },
     "execution_count": 12,
     "metadata": {},
     "output_type": "execute_result"
    }
   ],
   "source": [
    "calc_sim(\"bieber\", \"rihanna\", words_idx, embeddings)"
   ]
  },
  {
   "cell_type": "code",
   "execution_count": 15,
   "metadata": {
    "deletable": false,
    "nbgrader": {
     "cell_type": "code",
     "checksum": "5d0c5da4e71a95a4f3aacba9f9b4b664",
     "grade": false,
     "grade_id": "cell-3333712301dd0bbe",
     "locked": false,
     "schema_version": 3,
     "solution": true,
     "task": false
    }
   },
   "outputs": [
    {
     "name": "stdout",
     "output_type": "stream",
     "text": [
      "rihanna 0.524583248263655\n",
      "piłsudski 0.1930395805146356\n",
      "kanada 0.20042742126487934\n",
      "polska 0.12505934735679372\n",
      "piosenka 0.2874871368858332\n"
     ]
    }
   ],
   "source": [
    "# YOUR CODE HERE\n",
    "for row in ['rihanna', 'piłsudski', 'kanada', 'polska', 'piosenka']:\n",
    "    print(row, calc_sim('bieber', row, words_idx, embeddings))"
   ]
  },
  {
   "cell_type": "markdown",
   "metadata": {},
   "source": [
    "Zaimplementuj funkcję, która zwróci najbardziej podobne słowa (miara kosinusowa) do danego słowa `word`. W wyniku wypisz tylko `top` słów z najbliższymi zagnieżdżeniami, pomijając słowo `word`."
   ]
  },
  {
   "cell_type": "code",
   "execution_count": 58,
   "metadata": {
    "deletable": false,
    "nbgrader": {
     "cell_type": "code",
     "checksum": "d174e9429ec96be4232e58eb4683ffb8",
     "grade": false,
     "grade_id": "cell-e8417832104ee5eb",
     "locked": false,
     "schema_version": 3,
     "solution": true,
     "task": false
    }
   },
   "outputs": [],
   "source": [
    "import heapq\n",
    "\n",
    "def find_similar(word, words_idx, embedding_matrix, top=10):\n",
    "    # YOUR CODE HERE\n",
    "    results = []\n",
    "    for key in words_idx.keys():\n",
    "        sim = calc_sim(word, key, words_idx, embedding_matrix)\n",
    "        result = (sim, key)\n",
    "        \n",
    "        if len(results) <= top + 1:\n",
    "            heapq.heappush(results, result)\n",
    "        else:\n",
    "            heapq.heapreplace(results, result)\n",
    "            \n",
    "#     print([i[1] for i in heapq.nlargest(50, results)])\n",
    "    similarities = []\n",
    "    for result in heapq.nlargest(top + 1, results):\n",
    "        \n",
    "        similar_word = result[1]\n",
    "        if similar_word != word:\n",
    "            similarities.append(similar_word)\n",
    "    \n",
    "    return similarities\n"
   ]
  },
  {
   "cell_type": "code",
   "execution_count": 59,
   "metadata": {
    "deletable": false,
    "editable": false,
    "nbgrader": {
     "cell_type": "code",
     "checksum": "ff37028a810bf8da732cfdb41cc309b7",
     "grade": true,
     "grade_id": "cell-84f4627b3ebe0906",
     "locked": true,
     "points": 2,
     "schema_version": 3,
     "solution": false,
     "task": false
    }
   },
   "outputs": [],
   "source": [
    "assert len(find_similar(\"radość\", words_idx, embeddings)) == 10"
   ]
  },
  {
   "cell_type": "markdown",
   "metadata": {},
   "source": [
    "Znajdź najbardziej podobne słowa do kobieta, politechnika, mateusz, szczecin, niemcy, piłsudski"
   ]
  },
  {
   "cell_type": "code",
   "execution_count": 60,
   "metadata": {},
   "outputs": [
    {
     "data": {
      "text/plain": [
       "['kobietą',\n",
       " 'dziewczyna',\n",
       " 'mężczyzna',\n",
       " 'kobietę',\n",
       " 'dziewczynka',\n",
       " 'mężczyznę',\n",
       " 'staruszka',\n",
       " 'mężczyzną',\n",
       " 'kobiecie',\n",
       " 'mężczyzny']"
      ]
     },
     "execution_count": 60,
     "metadata": {},
     "output_type": "execute_result"
    }
   ],
   "source": [
    "find_similar(\"kobieta\", words_idx, embeddings)\n"
   ]
  },
  {
   "cell_type": "code",
   "execution_count": 61,
   "metadata": {
    "deletable": false,
    "nbgrader": {
     "cell_type": "code",
     "checksum": "00f26fb5c5ebdbd5a5dd006c892c9aba",
     "grade": false,
     "grade_id": "cell-9e2eaa4a951e17b4",
     "locked": false,
     "schema_version": 3,
     "solution": true,
     "task": false
    }
   },
   "outputs": [
    {
     "name": "stdout",
     "output_type": "stream",
     "text": [
      "['kobietą', 'dziewczyna', 'mężczyzna', 'kobietę', 'dziewczynka', 'mężczyznę', 'staruszka', 'mężczyzną', 'kobiecie', 'mężczyzny']\n",
      "['politechniki', 'politechniką', 'politechnikę', 'politechniczny', 'politechnice', 'politechnicznej', 'politechnicznego', 'politechnicznym', 'inżynierska', 'elektrotechnika']\n",
      "['łukasz', 'bartłomiej', 'bartosz', 'kacper', 'marcin', 'mateusza', 'tomasz', 'patryk', 'rafał', 'mateuszem']\n",
      "['szczecinek', 'szczeciński', 'szczecinem', 'gryfino', 'szczecinie', 'stargard', 'szczecina', 'koszalin', 'szczecińska', 'świnoujście']\n",
      "['niemieccy', 'naziści', 'alianci', 'okupanci', 'polacy', 'hitlerowcy', 'niemieckie', 'rosjanie', 'niemców', 'niemcom']\n",
      "['piłsudskim', 'piłsudskiego', 'piłsudskiemu', 'sosnkowski', 'mościcki', 'śmigły', 'józef', 'żeligowski', 'piłsudczyków', 'sosnkowskiego']\n"
     ]
    }
   ],
   "source": [
    "# YOUR CODE HERE\n",
    "for row in ['kobieta', 'politechnika', 'mateusz', 'szczecin', 'niemcy', 'piłsudski']:\n",
    "    print(find_similar(row, words_idx, embeddings))"
   ]
  },
  {
   "cell_type": "markdown",
   "metadata": {},
   "source": [
    "Krótko skomentuj wyniki dla słowa `niemcy`. Które z powstałych analogii biorą się z semantycznego powiązania a które z semantycznego podobieństwa?"
   ]
  },
  {
   "cell_type": "code",
   "execution_count": 64,
   "metadata": {
    "deletable": false,
    "nbgrader": {
     "cell_type": "code",
     "checksum": "c31c2929dc80543bebea431c05decbfd",
     "grade": true,
     "grade_id": "cell-f09fc185fd252182",
     "locked": false,
     "points": 1,
     "schema_version": 3,
     "solution": true,
     "task": false
    }
   },
   "outputs": [],
   "source": [
    "# YOUR CODE HERE\n",
    "# Zabarwienie historyczne - powiązania z III Rzeszą i elementami wojennymi\n",
    "#\n",
    "# powiązanie: \"naziści\", \"alianci\", \"okupanci\", \"polacy\", \"hitlerowcy\", \"rosjanie\"\n",
    "# podobieństwo: \"niemieccy\", \"niemieckie\", \"niemców\", \"niemcom\""
   ]
  },
  {
   "cell_type": "markdown",
   "metadata": {},
   "source": [
    "Zaimplementuj funkcje szukającą brakującego elementu relacji ,,`word_a` jest do `word_a2` jak `word_b` jest do...''. Funkcja powinna zwrócić 10 najbardziej pasujących słow z pominięciem słów będących jej argumentami."
   ]
  },
  {
   "cell_type": "code",
   "execution_count": 65,
   "metadata": {
    "deletable": false,
    "nbgrader": {
     "cell_type": "code",
     "checksum": "0e6e16dac4cb376f4d53a9d755cd46dc",
     "grade": false,
     "grade_id": "cell-63d29c3e720be966",
     "locked": false,
     "schema_version": 3,
     "solution": true,
     "task": false
    }
   },
   "outputs": [],
   "source": [
    "def find_similar_pair(word_a, word_a2, word_b,  words_idx, matrix, top=10):\n",
    "    # YOUR CODE HERE\n",
    "    \n",
    "    excl = [word_a, word_a2, word_b]\n",
    "    \n",
    "    results = []\n",
    "    for key in words_idx.keys():\n",
    "        sim = calc_sim(key, word_b, words_idx, matrix) - calc_sim(key, word_a, words_idx, matrix) + calc_sim(key, word_a2, words_idx, matrix)\n",
    "        result = (sim, key)\n",
    "        \n",
    "        if len(results) <= top + 1:\n",
    "            heapq.heappush(results, result)\n",
    "        else:\n",
    "            heapq.heapreplace(results, result)\n",
    "            \n",
    "#     print([i[1] for i in heapq.nlargest(50, results)])\n",
    "    similarities = []\n",
    "    for result in heapq.nlargest(top + 1, results):\n",
    "        \n",
    "        similar_word = result[1]\n",
    "        if similar_word not in excl:\n",
    "            similarities.append(similar_word)\n",
    "    \n",
    "    return similarities\n"
   ]
  },
  {
   "cell_type": "code",
   "execution_count": 66,
   "metadata": {
    "deletable": false,
    "editable": false,
    "nbgrader": {
     "cell_type": "code",
     "checksum": "7663a43e711a8e860bbc06d41b6ca904",
     "grade": true,
     "grade_id": "cell-0d5187c215c3d03c",
     "locked": true,
     "points": 2,
     "schema_version": 3,
     "solution": false,
     "task": false
    }
   },
   "outputs": [],
   "source": [
    "assert find_similar_pair( \"mężczyzna\", \"król\", \"kobieta\", words_idx, embeddings)[0] == \"królowa\""
   ]
  },
  {
   "cell_type": "markdown",
   "metadata": {},
   "source": [
    "Pieniądze są do profesora jak wiedza do..."
   ]
  },
  {
   "cell_type": "code",
   "execution_count": 67,
   "metadata": {
    "deletable": false,
    "nbgrader": {
     "cell_type": "code",
     "checksum": "96e68dff29fccbb7ee7cb889aeaaf45c",
     "grade": false,
     "grade_id": "cell-8f5621bb8ded7490",
     "locked": false,
     "schema_version": 3,
     "solution": true,
     "task": false
    }
   },
   "outputs": [
    {
     "data": {
      "text/plain": [
       "['habilitowany',\n",
       " 'docent',\n",
       " 'wykładowca',\n",
       " 'profesorem',\n",
       " 'habilitacja',\n",
       " 'adiunkt',\n",
       " 'rektor',\n",
       " 'profesora',\n",
       " 'humanistycznych']"
      ]
     },
     "execution_count": 67,
     "metadata": {},
     "output_type": "execute_result"
    }
   ],
   "source": [
    "# YOUR CODE HERE\n",
    "find_similar_pair(\"pieniądze\", \"profesor\", \"wiedza\", words_idx, embeddings)"
   ]
  },
  {
   "cell_type": "markdown",
   "metadata": {},
   "source": [
    "Mateusza jest do mateusz jak łukasza do ..."
   ]
  },
  {
   "cell_type": "code",
   "execution_count": 68,
   "metadata": {
    "deletable": false,
    "nbgrader": {
     "cell_type": "code",
     "checksum": "89ccdc6a4c7685a211811f0c6d5e796e",
     "grade": false,
     "grade_id": "cell-3215c64840cc460e",
     "locked": false,
     "schema_version": 3,
     "solution": true,
     "task": false
    }
   },
   "outputs": [
    {
     "data": {
      "text/plain": [
       "['łukasz',\n",
       " 'bartłomiej',\n",
       " 'bartosz',\n",
       " 'maciej',\n",
       " 'tomasz',\n",
       " 'rafał',\n",
       " 'patryk',\n",
       " 'marcin',\n",
       " 'michał']"
      ]
     },
     "execution_count": 68,
     "metadata": {},
     "output_type": "execute_result"
    }
   ],
   "source": [
    "# YOUR CODE HERE\n",
    "find_similar_pair(\"mateusza\", \"mateusz\", \"łukasza\", words_idx, embeddings)"
   ]
  },
  {
   "cell_type": "markdown",
   "metadata": {},
   "source": [
    "Warszawa jest do \"polska\" jak \"berlin\" do ..."
   ]
  },
  {
   "cell_type": "code",
   "execution_count": 69,
   "metadata": {
    "deletable": false,
    "nbgrader": {
     "cell_type": "code",
     "checksum": "2831d8f28423fd701364d67e72570994",
     "grade": false,
     "grade_id": "cell-8e4d868c692f267a",
     "locked": false,
     "schema_version": 3,
     "solution": true,
     "task": false
    }
   },
   "outputs": [
    {
     "data": {
      "text/plain": [
       "['niemiecka',\n",
       " 'berliner',\n",
       " 'wschodnioniemiecka',\n",
       " 'berlińska',\n",
       " 'deutschland',\n",
       " 'deutsche',\n",
       " 'brandenburg',\n",
       " 'germany',\n",
       " 'berlinem']"
      ]
     },
     "execution_count": 69,
     "metadata": {},
     "output_type": "execute_result"
    }
   ],
   "source": [
    "# YOUR CODE HERE\n",
    "find_similar_pair(\"warszawa\", \"polska\", \"berlin\", words_idx, embeddings)"
   ]
  },
  {
   "cell_type": "markdown",
   "metadata": {},
   "source": [
    "Zurich jest do ETH jak Poznań do ..."
   ]
  },
  {
   "cell_type": "code",
   "execution_count": 70,
   "metadata": {},
   "outputs": [
    {
     "data": {
      "text/plain": [
       "['„poznań',\n",
       " 'wrocław',\n",
       " 'poznania',\n",
       " 'poznańskie',\n",
       " 'gniezno',\n",
       " 'kraków',\n",
       " 'poznaniu',\n",
       " 'uam',\n",
       " 'wielkopolski']"
      ]
     },
     "execution_count": 70,
     "metadata": {},
     "output_type": "execute_result"
    }
   ],
   "source": [
    "find_similar_pair( \"zurich\", \"eth\", \"poznań\", words_idx, embeddings)"
   ]
  },
  {
   "cell_type": "markdown",
   "metadata": {},
   "source": [
    "Niemcy są do Merkel jak Polska do ..."
   ]
  },
  {
   "cell_type": "code",
   "execution_count": 71,
   "metadata": {},
   "outputs": [
    {
     "data": {
      "text/plain": [
       "['kaczyńska',\n",
       " 'ekonomistka',\n",
       " 'lewandowska',\n",
       " 'kwaśniewska',\n",
       " 'lekarka',\n",
       " 'parlamentarzystka',\n",
       " 'marcinkiewicz',\n",
       " 'nowacka',\n",
       " 'dziennikarka']"
      ]
     },
     "execution_count": 71,
     "metadata": {},
     "output_type": "execute_result"
    }
   ],
   "source": [
    "find_similar_pair( \"niemcy\", \"merkel\", \"polska\", words_idx, embeddings)"
   ]
  },
  {
   "cell_type": "markdown",
   "metadata": {},
   "source": [
    "Na wektorach możemy wykonywać standardowe operacje algebry liniowej takie jak np. projekcja czyli rzutowanie danych na jakichś zbiór osi (więcej: notatki z algebry liniowej np. https://ocw.mit.edu/courses/mathematics/18-06sc-linear-algebra-fall-2011/least-squares-determinants-and-eigenvalues/projections-onto-subspaces/). W szczególności może to się przydać do zrzutowania słowa na przestrzeń w której pewny wybrany kierunek (wskazywany przez wektor) jest eliminowany.\n",
    "\n",
    "Do czego może to się przydać? Jeśli uruchomisz funkcję `find_similar` dla słowa ,,mateusza'' znajdziesz m.in. ,,łukasza'' ale także ,,ewangelia'', ,,ewangelisty'' i ,,apostoła''. Chcąc pominąc kontekst religijny tego słowa możesz zrzutować jego reprezentacje na przestrzeń bez wektora ,,ewangelia'' i poszukać jego najbliższych sąsiadów (którymi będą teraz po prostu imiona męskie). Zaimplementuj taką funkcję.\n"
   ]
  },
  {
   "cell_type": "code",
   "execution_count": 72,
   "metadata": {
    "deletable": false,
    "nbgrader": {
     "cell_type": "code",
     "checksum": "c635c05e6782ad6ef07a5ac3346f65c9",
     "grade": false,
     "grade_id": "cell-9c73750e7d423c6a",
     "locked": false,
     "schema_version": 3,
     "solution": true,
     "task": false
    }
   },
   "outputs": [
    {
     "name": "stdout",
     "output_type": "stream",
     "text": [
      "Standardowe poszukiwanie: ['łukasza', 'ewangelii', 'ewangelisty', 'ewangelia', 'bartłomieja', 'ewangeliach', 'apostoła', 'mateusz', 'tymoteusza', 'jakuba']\n",
      "Poszukiwanie po projekcji: ['macieja', 'andrzeja', 'antoniego', 'stanisława', 'marcina', 'michała', 'kacpra', 'bartłomieja', 'rafała', 'sebastiana']\n"
     ]
    }
   ],
   "source": [
    "def find_similar_with_rejection(word, remove, words_idx, matrix, top=10):\n",
    "    \"\"\"\n",
    "    Działanie analogiczne do find_similar z dodatkowym parametrem remove, \n",
    "    który jest *listą* słów, które należy wyrzucić poprzez projekcję.\n",
    "    Dla remove=[] powinno się zwracać dokładnie to samo co find_similar\n",
    "    \"\"\"\n",
    "    # YOUR CODE HERE\n",
    "    if not remove:\n",
    "        return find_similar(word, words_idx, matrix, top)\n",
    "    else:\n",
    "        new_matrix = matrix.copy()\n",
    "        index = words_idx[word]\n",
    "        \n",
    "        for w in remove:\n",
    "            new_matrix[index] = new_matrix[index] - new_matrix[words_idx[w]]\n",
    "        \n",
    "    return find_similar(word, words_idx, new_matrix, top)\n",
    "\n",
    "print (\"Standardowe poszukiwanie:\", find_similar_with_rejection(\"mateusza\",[] , words_idx, embeddings))\n",
    "print (\"Poszukiwanie po projekcji:\", find_similar_with_rejection(\"mateusza\",[\"ewangelia\"] , words_idx, embeddings))"
   ]
  },
  {
   "cell_type": "code",
   "execution_count": 73,
   "metadata": {
    "deletable": false,
    "editable": false,
    "nbgrader": {
     "cell_type": "code",
     "checksum": "9cf5c44bd1df54c1da4106b8830dd322",
     "grade": true,
     "grade_id": "cell-b647aedbe8f9db7b",
     "locked": true,
     "points": 3,
     "schema_version": 3,
     "solution": false,
     "task": false
    }
   },
   "outputs": [],
   "source": [
    "assert \"ewangelii\" in find_similar_with_rejection(\"mateusza\",[] , words_idx, embeddings)\n",
    "assert \"ewangelii\" not in find_similar_with_rejection(\"mateusza\",[\"ewangelia\"] , words_idx, embeddings)\n",
    "assert \"ewangelisty\" not in find_similar_with_rejection(\"mateusza\",[\"ewangelia\"] , words_idx, embeddings)\n"
   ]
  },
  {
   "cell_type": "markdown",
   "metadata": {},
   "source": [
    "Analogicznie słowo ,,java'' jest nie tylko nazwą języka programownia (https://pl.wikipedia.org/wiki/Java_(ujednoznacznienie)) -- jest np. nazwą geograficzną (indonezyjska wyspa koło Sumatry). Sprawdź jakie wyrazy są podobne do \"java\" oraz po odrzuceniu kierunku \"javascript\" (tj. kierunku związanego z językami programowania)."
   ]
  },
  {
   "cell_type": "code",
   "execution_count": 74,
   "metadata": {
    "deletable": false,
    "nbgrader": {
     "cell_type": "code",
     "checksum": "e732ddade5feede63d07547766bcf949",
     "grade": false,
     "grade_id": "cell-d9d015bfeb8e25f6",
     "locked": false,
     "schema_version": 3,
     "solution": true,
     "task": false
    }
   },
   "outputs": [
    {
     "name": "stdout",
     "output_type": "stream",
     "text": [
      "['javascript', 'javy', 'c#', 'c++', 'programowania', 'implementacja', 'lisp', 'framework', 'api', 'programistyczne']\n",
      "['tromp', 'sumatra', 'niszczycielami', 'indonezja', 'penang', 'fregatą', 'jawa', 'lion', 'krążowniki', 'niszczyciele']\n"
     ]
    }
   ],
   "source": [
    "# YOUR CODE HERE\n",
    "print(find_similar_with_rejection('java', None, words_idx, embeddings))\n",
    "print(find_similar_with_rejection('java', ['javascript'], words_idx, embeddings))"
   ]
  },
  {
   "cell_type": "markdown",
   "metadata": {},
   "source": [
    "Spróbuj poekseprymentować samemu!"
   ]
  },
  {
   "cell_type": "code",
   "execution_count": 78,
   "metadata": {
    "deletable": false,
    "nbgrader": {
     "cell_type": "code",
     "checksum": "4a88f0a6d0571a66b40d04bc9cb8e65a",
     "grade": false,
     "grade_id": "cell-673e06a42de6bc26",
     "locked": false,
     "schema_version": 3,
     "solution": true,
     "task": false
    }
   },
   "outputs": [
    {
     "name": "stdout",
     "output_type": "stream",
     "text": [
      "['zamku', 'zamkiem', 'zamki', 'zamkowy', '„zamek', 'zamków', 'zamkowe', 'zameczek', 'pałac', 'warownia']\n",
      "['zamku', 'zamkiem', 'zamkowe', 'zamkowym', 'castle', 'zamkowy', '„zamek', 'zamków', 'warownia', 'warowni']\n",
      "['zamki', 'zamkiem', 'zamku', 'zamków', 'zamkach', 'zamkami', '„zamek', 'zamka', 'castle', 'zamkowe']\n"
     ]
    }
   ],
   "source": [
    "# YOUR CODE HERE\n",
    "print(find_similar_with_rejection('zamek', None, words_idx, embeddings))\n",
    "print(find_similar_with_rejection('zamek', ['klucz'], words_idx, embeddings))\n",
    "print(find_similar_with_rejection('zamek', ['budynek'], words_idx, embeddings))"
   ]
  },
  {
   "cell_type": "markdown",
   "metadata": {},
   "source": [
    "Wykonanie projekcji w przestrzeni zagnieżdżeń może być jedną z prostych technik zwalczenia tzw. gender bias (http://wordbias.umiacs.umd.edu/) w reprezentacji słów. Okazuje się, że wykonanie projekcji macierzy zagnieżdżeń na przestrzeń w której ,,brakuje kierunku he-she'' może być bardzo prostą techniką zredukowania tego typu obciążenia."
   ]
  },
  {
   "cell_type": "markdown",
   "metadata": {},
   "source": [
    "## Zadanie 2 - zagnieżdżenia dokumentów\n",
    "W tym ćwiczeniu powócimy do zbioru tweetów, który analizowaliśmy w poprzednim dokumencie."
   ]
  },
  {
   "cell_type": "code",
   "execution_count": 79,
   "metadata": {},
   "outputs": [
    {
     "name": "stdout",
     "output_type": "stream",
     "text": [
      "Reading data set ['tweets.txt']\n"
     ]
    }
   ],
   "source": [
    "from helpers import DataSet\n",
    "training_set = DataSet(['tweets.txt'])"
   ]
  },
  {
   "cell_type": "code",
   "execution_count": 80,
   "metadata": {},
   "outputs": [
    {
     "name": "stdout",
     "output_type": "stream",
     "text": [
      "dear @Microsoft the newOoffice for Mac is great and all, but no Lync update? C'mon.\n",
      "['dear', '@microsoft', 'the', 'newooffice', 'for', 'mac', 'is', 'great', 'and', 'all', ',', 'but', 'no', 'lync', 'update', '?', \"c'mon\", '.']\n",
      "negative\n"
     ]
    }
   ],
   "source": [
    "for i in training_set.tweets:\n",
    "    print(i.text)\n",
    "    print(i.tokens)\n",
    "    print(i.clazz)\n",
    "    break"
   ]
  },
  {
   "cell_type": "markdown",
   "metadata": {},
   "source": [
    "Tym razem do zbudowania reprezentacji będziemy używać narzędzie Universal Sentence Encoder stworzone przez Googla na bazie głębokiej sieci uśredniającej (i architektur rekurencyjnych). Poniższy kod pokazuje sposób użycia tego narzędzia. \n",
    "Kod spokojnie można wywoływać na CPU -- choć ściąganie modelu trochę może potrwać."
   ]
  },
  {
   "cell_type": "code",
   "execution_count": 82,
   "metadata": {},
   "outputs": [
    {
     "name": "stdout",
     "output_type": "stream",
     "text": [
      "tf.Tensor(\n",
      "[[-0.03133018 -0.06338634 -0.01607502 ... -0.03242778 -0.04575741\n",
      "   0.05370456]\n",
      " [ 0.05080861 -0.01652428  0.01573781 ...  0.00976659  0.03170123\n",
      "   0.0178812 ]], shape=(2, 512), dtype=float32)\n"
     ]
    }
   ],
   "source": [
    "import tensorflow as tf\n",
    "import tensorflow_hub as hub\n",
    "embed = hub.load(\"https://tfhub.dev/google/universal-sentence-encoder/4\")\n",
    "embeddings = embed([\n",
    "    \"The quick brown fox jumps over the lazy dog.\",\n",
    "    \"I am a sentence for which I would like to get its embedding\"])\n",
    "print (embeddings)"
   ]
  },
  {
   "cell_type": "markdown",
   "metadata": {},
   "source": [
    "Wykorzystując reprezetnację USE wytrenuj wybrany klasyfikator z pakietu `sklearn` i zweryfikuj jego jakość działania."
   ]
  },
  {
   "cell_type": "code",
   "execution_count": 83,
   "metadata": {
    "deletable": false,
    "nbgrader": {
     "cell_type": "code",
     "checksum": "8ec9460c36ab328559c89319de53da65",
     "grade": false,
     "grade_id": "cell-26c33314c55313ac",
     "locked": false,
     "schema_version": 3,
     "solution": true,
     "task": false
    }
   },
   "outputs": [
    {
     "data": {
      "text/plain": [
       "0.6534798534798535"
      ]
     },
     "execution_count": 83,
     "metadata": {},
     "output_type": "execute_result"
    }
   ],
   "source": [
    "# YOUR CODE HERE\n",
    "from sklearn.svm import SVC\n",
    "from sklearn.metrics import accuracy_score\n",
    "from sklearn.model_selection import train_test_split\n",
    "\n",
    "texts = list(embed([tweet.text for tweet in training_set.tweets]))\n",
    "classes = [tweet.clazz for tweet in training_set.tweets]\n",
    "x_train, x_test, y_train, y_test = train_test_split(texts, classes, random_state=8348)\n",
    "\n",
    "classifier = SVC()\n",
    "classifier.fit(x_train, y_train)\n",
    "accuracy_score(y_test, classifier.predict(x_test))"
   ]
  },
  {
   "cell_type": "markdown",
   "metadata": {},
   "source": [
    "Skomentuj wyniki i odnieś je do wyników z poprzedniego zadania domowego. Na ile użycie reprezentacji rozproszonych pozwoliło na poprawę wyników?"
   ]
  },
  {
   "cell_type": "code",
   "execution_count": 84,
   "metadata": {
    "deletable": false,
    "nbgrader": {
     "cell_type": "code",
     "checksum": "635819ecfcec9e909b5f4b2261ea14a5",
     "grade": true,
     "grade_id": "cell-e08f7b8feff88383",
     "locked": false,
     "points": 3,
     "schema_version": 3,
     "solution": true,
     "task": false
    }
   },
   "outputs": [],
   "source": [
    "# YOUR CODE HERE\n",
    "# Reprezentacje rozproszone: 0.6534798534798535\n",
    "# Hashowanie: 0.5100794135613927\n",
    "# BOC: 0.49114233353695785"
   ]
  },
  {
   "cell_type": "markdown",
   "metadata": {},
   "source": [
    "# Zadanie 3 - konstruowanie zagnieżdżeń\n",
    "W tym ćwiczeniu kontynuujemy pracę z tweetami, ale pomijamy całkowicie ich klasy. Zbiór tweetów potraktujemy jako korpus do nauczenia zagnieżdżeń słów przy pomocy macierzy PMI.\n",
    "- Wypełnij macierz kontekst - dokument przy użyciu symetrycznego okna o promieniu 4 (po 4 słowa w każdą stronę)\n",
    "- Możesz ograniczyć słownictwo do 10K słów\n",
    "- Przekształć macierz w macierz PPMI\n",
    "- Stwórz zagnieżdżenia wykorzystując dekompozycję SVD do wybranej wymiarowości $d$ (ze względu na koszt obliczeniowy może to być mała wymiarowość np. $d=10$)"
   ]
  },
  {
   "cell_type": "code",
   "execution_count": 101,
   "metadata": {
    "deletable": false,
    "nbgrader": {
     "cell_type": "code",
     "checksum": "d780996410f05351b8dc57e50531c78d",
     "grade": true,
     "grade_id": "cell-dc2433e668962e28",
     "locked": false,
     "points": 7,
     "schema_version": 3,
     "solution": true,
     "task": false
    }
   },
   "outputs": [],
   "source": [
    "# YOUR CODE HERE\n",
    "from sklearn.decomposition import TruncatedSVD\n",
    "from collections import Counter\n",
    "from numpy.linalg import svd\n",
    "from math import log2\n",
    "\n",
    "r = 4 # radius\n",
    "v = 10000 # vocabulary size\n",
    "d = 10 # dimensions\n",
    "\n",
    "def train():\n",
    "    \n",
    "    ## VOCABULARY\n",
    "    \n",
    "    words = Counter()\n",
    "    for row in training_set.tweets:\n",
    "        words.update(row.tokens)\n",
    "        \n",
    "    voc = {}\n",
    "    for index, (word, _) in enumerate(words.most_common(v)):\n",
    "        voc[word] = index\n",
    "    \n",
    "    ## HAL\n",
    "    \n",
    "    context = np.zeros((2*v, 2*v))\n",
    "    for row in training_set.tweets:\n",
    "        for left, word, right in window_gen(row.tokens):\n",
    "            if word in voc:\n",
    "                neighbours = left + right\n",
    "                for neighbour in neighbours:\n",
    "                    if neighbour in voc:\n",
    "                        context[voc[word], voc[neighbour]] += 1\n",
    "            \n",
    "    ## PPMI\n",
    "    \n",
    "    ppmi_matrix = context.copy()\n",
    "    (row_count, col_count) = ppmi_matrix.shape\n",
    "    total_sum = np.sum(ppmi_matrix)\n",
    "    row = np.sum(ppmi_matrix, axis=1) / total_sum\n",
    "    col = np.sum(ppmi_matrix, axis=0) / total_sum\n",
    "    ppmi_matrix = ppmi_matrix / total_sum\n",
    "    \n",
    "    for r_i in range(0, row_count):\n",
    "        \n",
    "        for c_i in range(0, col_count):    \n",
    "            row_times_col = row[r_i] * col[c_i]\n",
    "            \n",
    "            if row_times_col == 0:\n",
    "                ppmi_matrix[r_i, c_i] = 0\n",
    "            else:\n",
    "                pmi_value = ppmi_matrix[r_i, c_i] / row_times_col\n",
    "                \n",
    "                if pmi_value == 0:\n",
    "                    ppmi_matrix[r_i, c_i] = 0\n",
    "                else:\n",
    "                    ppmi_matrix[r_i, c_i] = max(0, log2(pmi_value))\n",
    "                \n",
    "    ## SVD\n",
    "                \n",
    "    svd = TruncatedSVD(d)\n",
    "    result = svd.fit_transform(ppmi_matrix)\n",
    "    return result, voc\n",
    "\n",
    "\n",
    "def window_gen(row):\n",
    "    width = len(row)\n",
    "    for offset in range(-r, width - r):\n",
    "        left = max(offset, 0)\n",
    "        mid = offset + r\n",
    "        right = max(offset + 2 * r + 1, 0)\n",
    "        \n",
    "        item_left = row[left : mid]\n",
    "        item = row[mid]\n",
    "        item_right = row[mid + 1 : right]\n",
    "        \n",
    "        yield item_left, item, item_right\n",
    "\n",
    "\n",
    "embeddings, words = train()"
   ]
  },
  {
   "cell_type": "markdown",
   "metadata": {},
   "source": [
    "Przetestuj działanie Twoich zagnieżdżeń wykorzystując funkcję `find_similar` na wybranych słowach."
   ]
  },
  {
   "cell_type": "code",
   "execution_count": 102,
   "metadata": {
    "deletable": false,
    "nbgrader": {
     "cell_type": "code",
     "checksum": "ccb11abbddd43b64c364aea20584f1dd",
     "grade": true,
     "grade_id": "cell-f6fa13a67093698a",
     "locked": false,
     "points": 1,
     "schema_version": 3,
     "solution": true,
     "task": false
    }
   },
   "outputs": [
    {
     "data": {
      "text/plain": [
       "['ouija',\n",
       " 'shop',\n",
       " 'today-',\n",
       " 'paralytic',\n",
       " 'overhyped',\n",
       " 'garage',\n",
       " 'massive',\n",
       " 'supposed',\n",
       " 'http://t.co/q3fenbq151',\n",
       " 'seriously']"
      ]
     },
     "execution_count": 102,
     "metadata": {},
     "output_type": "execute_result"
    }
   ],
   "source": [
    "# YOUR CODE HERE\n",
    "find_similar('xbox', words, embeddings)"
   ]
  }
 ],
 "metadata": {
  "kernelspec": {
   "display_name": "Python 3",
   "language": "python",
   "name": "python3"
  },
  "language_info": {
   "codemirror_mode": {
    "name": "ipython",
    "version": 3
   },
   "file_extension": ".py",
   "mimetype": "text/x-python",
   "name": "python",
   "nbconvert_exporter": "python",
   "pygments_lexer": "ipython3",
   "version": "3.7.6"
  }
 },
 "nbformat": 4,
 "nbformat_minor": 2
}
